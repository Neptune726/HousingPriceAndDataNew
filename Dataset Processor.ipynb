{
 "cells": [
  {
   "cell_type": "code",
   "execution_count": 4,
   "id": "2e01e18b",
   "metadata": {},
   "outputs": [],
   "source": [
    "import pandas as pd\n",
    "import glob"
   ]
  },
  {
   "cell_type": "code",
   "execution_count": 18,
   "id": "26bda6d8",
   "metadata": {},
   "outputs": [],
   "source": [
    "def convert_str_to_float(s):\n",
    "    \n",
    "    if type(s)==str:\n",
    "        if s[0]==\"$\":\n",
    "            s=s[1:]\n",
    "        if s[-1]==\"%\":\n",
    "            scale=1/100\n",
    "            s=s[:-1]\n",
    "        elif s[-1]==\"K\":\n",
    "            scale=10**3\n",
    "\n",
    "            s=s[:-1]\n",
    "        else:\n",
    "            scale=1\n",
    "        return scale*float(s.replace(',' , ''))\n",
    "    else:\n",
    "        return s"
   ]
  },
  {
   "cell_type": "code",
   "execution_count": 22,
   "id": "62f24eeb",
   "metadata": {},
   "outputs": [],
   "source": [
    "def process_df(data_df):\n",
    "    #Change Month to DateTime\n",
    "    data_df[\"Month of Period End\"]=pd.to_datetime(\n",
    "        data_df[\"Month of Period End\"], format=\"%B %Y\")\n",
    "    \n",
    "    #Fill in Regions\n",
    "    for i in range(data_df.shape[0]):\n",
    "        if type(data_df.iloc[i,0])==str:\n",
    "            current_region=data_df.iloc[i,0]\n",
    "            if current_region[0]==\" \":\n",
    "                current_region=current_region[1:]\n",
    "\n",
    "        data_df.iloc[i,0]=current_region\n",
    "    \n",
    "    for i in range(2,data_df.shape[1]):\n",
    "        data_df.iloc[:,i]=data_df.iloc[:,i].apply(convert_str_to_float)\n",
    "    #Convert String Data entries into floats\n",
    "    return data_df"
   ]
  },
  {
   "cell_type": "code",
   "execution_count": 23,
   "id": "96b353be",
   "metadata": {},
   "outputs": [],
   "source": [
    "for file in glob.glob(\"Raw Data/*.csv\"):\n",
    "    df=process_df(pd.read_csv(file))\n",
    "    df.to_csv(f\"Processed Data/{file[9:-14]}.csv\",index=False)"
   ]
  },
  {
   "cell_type": "code",
   "execution_count": null,
   "id": "89f16adf",
   "metadata": {},
   "outputs": [],
   "source": []
  }
 ],
 "metadata": {
  "kernelspec": {
   "display_name": "Python 3",
   "language": "python",
   "name": "python3"
  },
  "language_info": {
   "codemirror_mode": {
    "name": "ipython",
    "version": 3
   },
   "file_extension": ".py",
   "mimetype": "text/x-python",
   "name": "python",
   "nbconvert_exporter": "python",
   "pygments_lexer": "ipython3",
   "version": "3.8.8"
  }
 },
 "nbformat": 4,
 "nbformat_minor": 5
}
